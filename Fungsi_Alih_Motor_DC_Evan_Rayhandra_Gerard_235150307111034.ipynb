{
  "nbformat": 4,
  "nbformat_minor": 0,
  "metadata": {
    "colab": {
      "provenance": [],
      "authorship_tag": "ABX9TyPjNXkdqQImwy7Osy7+/Jo6",
      "include_colab_link": true
    },
    "kernelspec": {
      "name": "python3",
      "display_name": "Python 3"
    },
    "language_info": {
      "name": "python"
    }
  },
  "cells": [
    {
      "cell_type": "markdown",
      "metadata": {
        "id": "view-in-github",
        "colab_type": "text"
      },
      "source": [
        "<a href=\"https://colab.research.google.com/github/evanrgerard/Kode-Python_Fungsi-Alih_MotorDC/blob/main/Fungsi_Alih_Motor_DC_Evan_Rayhandra_Gerard_235150307111034.ipynb\" target=\"_parent\"><img src=\"https://colab.research.google.com/assets/colab-badge.svg\" alt=\"Open In Colab\"/></a>"
      ]
    },
    {
      "cell_type": "markdown",
      "source": [
        "#1. Model Matematika Motor DC\n",
        "#### Evan Rayhandra Gerard\n",
        "#### 235150307111034"
      ],
      "metadata": {
        "id": "JPntVI21gpED"
      }
    },
    {
      "cell_type": "markdown",
      "source": [
        "## Persamaan Listrik"
      ],
      "metadata": {
        "id": "Dv_hEgA8kF-x"
      }
    },
    {
      "cell_type": "markdown",
      "source": [],
      "metadata": {
        "id": "ltYDxUqFaud8"
      }
    },
    {
      "cell_type": "code",
      "source": [
        "import sympy as sp\n",
        "\n",
        "t, s, L, R, K = sp.symbols('t s L R K')\n",
        "V_s = sp.Function('V')(s)\n",
        "I_s = sp.Function('I')(s)\n",
        "Theta_s = sp.Function('Theta')(s)\n",
        "i_0, theta_0 = sp.symbols('i_0 theta_0')\n",
        "\n",
        "i_t = sp.Function('i')(t)\n",
        "theta_t = sp.Function('theta')(t)\n",
        "persamaan_listrik = sp.Eq(L * i_t.diff(t) + R * i_t, V_s - K * theta_t.diff(t))\n",
        "\n",
        "display(persamaan_listrik)"
      ],
      "metadata": {
        "colab": {
          "base_uri": "https://localhost:8080/",
          "height": 52
        },
        "id": "J7K7QuQMoVht",
        "outputId": "c3282fb1-e414-4222-8514-e73e1782005a"
      },
      "execution_count": 9,
      "outputs": [
        {
          "output_type": "display_data",
          "data": {
            "text/plain": [
              "Eq(L*Derivative(i(t), t) + R*i(t), -K*Derivative(theta(t), t) + V(s))"
            ],
            "text/latex": "$\\displaystyle L \\frac{d}{d t} i{\\left(t \\right)} + R i{\\left(t \\right)} = - K \\frac{d}{d t} \\theta{\\left(t \\right)} + V{\\left(s \\right)}$"
          },
          "metadata": {}
        }
      ]
    },
    {
      "cell_type": "markdown",
      "source": [
        "## Persamaan Mekanik"
      ],
      "metadata": {
        "id": "zQZoUEJiTrok"
      }
    },
    {
      "cell_type": "code",
      "source": [
        "t, s = sp.symbols('t s')\n",
        "J, b, K = sp.symbols('J b K')\n",
        "i = sp.Function('i')(t)\n",
        "I_s = sp.Function('I')(s)\n",
        "theta = sp.Function('theta')(t)\n",
        "Theta_s = sp.Function('Theta')(s)\n",
        "\n",
        "dtheta_dt = sp.Derivative(theta, t)\n",
        "d2theta_dt2 = sp.Derivative(theta, t, t)\n",
        "\n",
        "persamaan_mekanik = sp.Eq(J * d2theta_dt2 + b * dtheta_dt, K * i)\n",
        "\n",
        "display(persamaan_mekanik)"
      ],
      "metadata": {
        "colab": {
          "base_uri": "https://localhost:8080/",
          "height": 54
        },
        "id": "ogYpCupvkOE6",
        "outputId": "21f5199c-1faa-41c5-95a4-684897d14360"
      },
      "execution_count": 10,
      "outputs": [
        {
          "output_type": "display_data",
          "data": {
            "text/plain": [
              "Eq(J*Derivative(theta(t), (t, 2)) + b*Derivative(theta(t), t), K*i(t))"
            ],
            "text/latex": "$\\displaystyle J \\frac{d^{2}}{d t^{2}} \\theta{\\left(t \\right)} + b \\frac{d}{d t} \\theta{\\left(t \\right)} = K i{\\left(t \\right)}$"
          },
          "metadata": {}
        }
      ]
    },
    {
      "cell_type": "markdown",
      "source": [
        "# 2. Transformasi Laplace"
      ],
      "metadata": {
        "id": "ei-dpJCLgxjq"
      }
    },
    {
      "cell_type": "markdown",
      "source": [
        "Dari dua persamaan (persamaan listrik & mekanik) maka didapatkan persamaan yang dapat ditulis seperti dibawah:"
      ],
      "metadata": {
        "id": "_LLXE7sf2rXR"
      }
    },
    {
      "cell_type": "code",
      "source": [
        "L, R, V, K, J, b = sp.symbols('L R V K J b')\n",
        "i = sp.Function('i')(sp.Symbol('t'))\n",
        "theta = sp.Function('theta')(sp.Symbol('t'))\n",
        "\n",
        "idot = sp.Symbol(r'\\dot{i}')\n",
        "thetadot = sp.Symbol(r'\\dot{\\theta}')\n",
        "thetaddot = sp.Symbol(r'\\ddot{\\theta}')\n",
        "\n",
        "persamaan_listrik = sp.Eq(L * idot + R * i, V - K * thetadot)\n",
        "\n",
        "persamaan_mekanik = sp.Eq(J * thetaddot + b * thetadot, K * i)\n",
        "\n",
        "display(persamaan_listrik, persamaan_mekanik)"
      ],
      "metadata": {
        "colab": {
          "base_uri": "https://localhost:8080/",
          "height": 62
        },
        "id": "gWJGeYJG2q2v",
        "outputId": "11b79846-e285-47ac-9193-e3753e54e1f3"
      },
      "execution_count": 22,
      "outputs": [
        {
          "output_type": "display_data",
          "data": {
            "text/plain": [
              "Eq(L*\\dot{i} + R*i(t), -K*\\dot{\\theta} + V)"
            ],
            "text/latex": "$\\displaystyle L \\dot{i} + R i{\\left(t \\right)} = - K \\dot{\\theta} + V$"
          },
          "metadata": {}
        },
        {
          "output_type": "display_data",
          "data": {
            "text/plain": [
              "Eq(J*\\ddot{\\theta} + \\dot{\\theta}*b, K*i(t))"
            ],
            "text/latex": "$\\displaystyle J \\ddot{\\theta} + \\dot{\\theta} b = K i{\\left(t \\right)}$"
          },
          "metadata": {}
        }
      ]
    },
    {
      "cell_type": "markdown",
      "source": [
        "## Laplace Pada Persamaan Listrik"
      ],
      "metadata": {
        "id": "8TlFn3BNT0yL"
      }
    },
    {
      "cell_type": "code",
      "source": [
        "laplace_eq = sp.laplace_transform(persamaan_listrik.lhs, t, s, noconds=True) - sp.laplace_transform(persamaan_listrik.rhs, t, s, noconds=True)\n",
        "\n",
        "laplace_eq = laplace_eq.subs({\n",
        "    sp.laplace_transform(i_t.diff(t), t, s, noconds=True): s * I_s - i_0,\n",
        "    sp.laplace_transform(theta_t.diff(t), t, s, noconds=True): s * Theta_s - theta_0,\n",
        "    sp.laplace_transform(i_t, t, s, noconds=True): I_s,\n",
        "    sp.laplace_transform(theta_t, t, s, noconds=True): Theta_s\n",
        "})\n",
        "\n",
        "persamaan_listrik_sederhana = sp.Eq((L * s + R) * I_s, V_s - K * s * Theta_s)\n",
        "\n",
        "display(persamaan_listrik_sederhana)"
      ],
      "metadata": {
        "colab": {
          "base_uri": "https://localhost:8080/",
          "height": 39
        },
        "id": "SoCgcOeWTzvC",
        "outputId": "963c1c16-6512-4cad-bf36-f2032338004f"
      },
      "execution_count": 12,
      "outputs": [
        {
          "output_type": "display_data",
          "data": {
            "text/plain": [
              "Eq((L*s + R)*I(s), -K*s*Theta(s) + V(s))"
            ],
            "text/latex": "$\\displaystyle \\left(L s + R\\right) I{\\left(s \\right)} = - K s \\Theta{\\left(s \\right)} + V{\\left(s \\right)}$"
          },
          "metadata": {}
        }
      ]
    },
    {
      "cell_type": "markdown",
      "source": [
        "## Laplace Pada Persamaan Mekanik"
      ],
      "metadata": {
        "id": "sfAOAKCHT5vq"
      }
    },
    {
      "cell_type": "code",
      "source": [
        "laplace_eq = sp.laplace_transform(persamaan_mekanik.lhs, t, s, noconds=True) - sp.laplace_transform(persamaan_mekanik.rhs, t, s, noconds=True)\n",
        "\n",
        "laplace_eq = laplace_eq.subs({\n",
        "    sp.laplace_transform(d2theta_dt2, t, s, noconds=True): s**2 * Theta_s - s * theta_0,\n",
        "    sp.laplace_transform(dtheta_dt, t, s, noconds=True): s * Theta_s - theta_0,\n",
        "    sp.laplace_transform(i_t, t, s, noconds=True): I_s,\n",
        "    sp.laplace_transform(theta_t, t, s, noconds=True): Theta_s\n",
        "})\n",
        "\n",
        "persamaan_mekanik_sederhana = sp.Eq((J * s**2 + b * s) * Theta_s, K * I_s)\n",
        "\n",
        "display(persamaan_mekanik_sederhana)"
      ],
      "metadata": {
        "id": "lWoC2ECThQs4",
        "colab": {
          "base_uri": "https://localhost:8080/",
          "height": 39
        },
        "outputId": "01b3146a-34d1-49d7-97e0-15eed070c309"
      },
      "execution_count": 13,
      "outputs": [
        {
          "output_type": "display_data",
          "data": {
            "text/plain": [
              "Eq((J*s**2 + b*s)*Theta(s), K*I(s))"
            ],
            "text/latex": "$\\displaystyle \\left(J s^{2} + b s\\right) \\Theta{\\left(s \\right)} = K I{\\left(s \\right)}$"
          },
          "metadata": {}
        }
      ]
    },
    {
      "cell_type": "markdown",
      "source": [
        "#3. Fungsi Alih Hubungan antara  kecepatan sudut ($\\omega$) terhadap tegangan (V)"
      ],
      "metadata": {
        "id": "yPcjJXc1g1Jz"
      }
    },
    {
      "cell_type": "code",
      "source": [
        "I_s_sol = sp.solve(persamaan_listrik_sederhana, I_s)[0]\n",
        "\n",
        "persamaan_substitusi = persamaan_mekanik_sederhana.subs(I_s, I_s_sol)\n",
        "\n",
        "Theta_s_sol = sp.solve(persamaan_substitusi, Theta_s)[0]\n",
        "\n",
        "Omega_s = s * Theta_s_sol\n",
        "\n",
        "G_s = sp.simplify(Omega_s / V_s)\n",
        "\n",
        "display(sp.Eq(sp.Symbol('G(s)'), G_s))\n"
      ],
      "metadata": {
        "colab": {
          "base_uri": "https://localhost:8080/",
          "height": 53
        },
        "id": "41PZ8RI8-0Vt",
        "outputId": "57eb893c-ee36-4dad-c0a8-383273a8bf92"
      },
      "execution_count": 28,
      "outputs": [
        {
          "output_type": "display_data",
          "data": {
            "text/plain": [
              "Eq(G(s), K/(J*L*s**2 + J*R*s + K**2 + L*b*s + R*b))"
            ],
            "text/latex": "$\\displaystyle G(s) = \\frac{K}{J L s^{2} + J R s + K^{2} + L b s + R b}$"
          },
          "metadata": {}
        }
      ]
    }
  ]
}